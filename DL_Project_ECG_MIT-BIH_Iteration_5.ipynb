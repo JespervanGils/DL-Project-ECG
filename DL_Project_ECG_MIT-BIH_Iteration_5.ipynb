{
 "cells": [
  {
   "cell_type": "markdown",
   "metadata": {},
   "source": [
    "# Deep Learning Term Project for ECG (DIL700)"
   ]
  },
  {
   "attachments": {},
   "cell_type": "markdown",
   "metadata": {},
   "source": [
    "# Iteration 5"
   ]
  },
  {
   "attachments": {},
   "cell_type": "markdown",
   "metadata": {},
   "source": [
    "## Imports"
   ]
  },
  {
   "cell_type": "code",
   "execution_count": 1,
   "metadata": {},
   "outputs": [],
   "source": [
    "import numpy as np\n",
    "import pandas as pd\n",
    "import seaborn as sns\n",
    "import matplotlib.pyplot as plt\n",
    "from sklearn.metrics import classification_report\n",
    "from sklearn.model_selection import train_test_split\n",
    "from sklearn.metrics import confusion_matrix\n",
    "\n",
    "from sklearn.metrics import accuracy_score\n",
    "from sklearn import metrics\n",
    "from sklearn.utils import class_weight\n",
    "import warnings\n",
    "import os\n",
    "from general_functions import *\n",
    "from sklearn.model_selection import GridSearchCV\n",
    "from keras.models import Sequential\n",
    "from keras.layers import Conv1D, MaxPooling1D, Flatten, Dense, BatchNormalization\n",
    "from keras.callbacks import EarlyStopping, ModelCheckpoint\n",
    "\n",
    "\n",
    "warnings.filterwarnings('ignore')"
   ]
  },
  {
   "cell_type": "markdown",
   "metadata": {},
   "source": [
    "## Loading Dataset"
   ]
  },
  {
   "cell_type": "markdown",
   "metadata": {},
   "source": [
    "Collect all the data from the csv files"
   ]
  },
  {
   "cell_type": "code",
   "execution_count": 2,
   "metadata": {},
   "outputs": [],
   "source": [
    "# # Original data\n",
    "\n",
    "train_df=combine_csv_files_to_df('./Dataset_mitbih/Training/')\n",
    "test_df=combine_csv_files_to_df('./Dataset_mitbih/Testing/')\n",
    "# Put together the training and testing\n",
    "full_df=pd.concat([train_df,test_df],ignore_index=True)\n",
    "\n",
    "# Synthetic data\n",
    "\n",
    "# train_df = pd.read_csv('./Dataset_mitbih/Synthetic/mitbih_with_syntetic_train.csv')\n",
    "# train_df = train_df.iloc[:, :-1]\n",
    "# train_df.rename(columns={'class': 187}, inplace=True)\n",
    "# test_df = pd.read_csv('./Dataset_mitbih/Synthetic/mitbih_with_syntetic_test.csv')\n",
    "# test_df = test_df.iloc[:, :-1]\n",
    "# test_df.rename(columns={'class': 187}, inplace=True)\n",
    "\n",
    "# # Put together the training and testing\n",
    "# full_df=pd.concat([train_df,test_df],ignore_index=True)\n"
   ]
  },
  {
   "cell_type": "markdown",
   "metadata": {},
   "source": [
    "## Removing class 3 and renaming class 4 to class 3"
   ]
  },
  {
   "cell_type": "code",
   "execution_count": 3,
   "metadata": {},
   "outputs": [],
   "source": [
    "train_df = train_df[train_df[187] != 3]\n",
    "test_df = test_df[test_df[187] != 3]\n",
    "full_df = full_df[full_df[187] != 3]\n",
    "\n",
    "train_df = train_df[train_df[187] != '3.0']\n",
    "test_df = test_df[test_df[187] != '3.0']\n",
    "full_df = full_df[full_df[187] != '3.0']\n",
    "\n",
    "train_df = train_df[train_df[187] != 'class']\n",
    "test_df = test_df[test_df[187] != 'class']\n",
    "full_df = full_df[full_df[187] != 'class']\n",
    "\n",
    "train_df.loc[train_df[187] == 4, 187] = 3.0\n",
    "test_df.loc[test_df[187] == 4, 187] = 3.0\n",
    "full_df.loc[full_df[187] == 4, 187] = 3.0\n",
    "\n",
    "train_df.loc[train_df[187] == '4.0', 187] = 3.0\n",
    "test_df.loc[test_df[187] == '4.0', 187] = 3.0\n",
    "full_df.loc[full_df[187] == '4.0', 187] = 3.0\n",
    "\n",
    "train_df.loc[train_df[187] == '0.0', 187] = 0.0\n",
    "train_df.loc[train_df[187] == '1.0', 187] = 1.0\n",
    "train_df.loc[train_df[187] == '2.0', 187] = 2.0\n",
    "train_df.loc[train_df[187] == '3.0', 187] = 3.0"
   ]
  },
  {
   "cell_type": "code",
   "execution_count": 4,
   "metadata": {},
   "outputs": [
    {
     "name": "stdout",
     "output_type": "stream",
     "text": [
      "[0. 1. 2. 3.]\n"
     ]
    }
   ],
   "source": [
    "print(train_df[187].unique())"
   ]
  },
  {
   "cell_type": "code",
   "execution_count": 5,
   "metadata": {},
   "outputs": [],
   "source": [
    "labels = ['Normal', 'Artial Premature', 'Premature ventricular contraction', 'Paced']\n",
    "labels_short =  [\"N\",\"S\",\"V\",\"Q\"]"
   ]
  },
  {
   "cell_type": "code",
   "execution_count": 6,
   "metadata": {},
   "outputs": [
    {
     "name": "stdout",
     "output_type": "stream",
     "text": [
      "Number of samples in data:\n",
      "Normal : 72471\n",
      "Artial Premature : 2223\n",
      "Premature ventricular contraction : 5788\n",
      "Paced : 6431\n"
     ]
    }
   ],
   "source": [
    "print('Number of samples in data:')\n",
    "print(labels[0],':', len(train_df[train_df[187]==0]))\n",
    "print(labels[1],':', len(train_df[train_df[187]==1]))\n",
    "print(labels[2],':', len(train_df[train_df[187]==2]))\n",
    "print(labels[3],':', len(train_df[train_df[187]==3]))"
   ]
  },
  {
   "cell_type": "code",
   "execution_count": 7,
   "metadata": {},
   "outputs": [
    {
     "name": "stdout",
     "output_type": "stream",
     "text": [
      "Number of samples in data:\n",
      "Normal : 18118\n",
      "Artial Premature : 556\n",
      "Premature ventricular contraction : 1448\n",
      "Paced : 1608\n"
     ]
    }
   ],
   "source": [
    "print('Number of samples in data:')\n",
    "print(labels[0],':', len(test_df[test_df[187]==0]))\n",
    "print(labels[1],':', len(test_df[test_df[187]==1]))\n",
    "print(labels[2],':', len(test_df[test_df[187]==2]))\n",
    "print(labels[3],':', len(test_df[test_df[187]==3]))"
   ]
  },
  {
   "attachments": {},
   "cell_type": "markdown",
   "metadata": {},
   "source": [
    "## Preparation"
   ]
  },
  {
   "cell_type": "code",
   "execution_count": 8,
   "metadata": {},
   "outputs": [],
   "source": [
    "X = full_df.iloc[:, :-1]\n",
    "y = full_df.iloc[:, -1]\n",
    "\n",
    "X_train, X_test, y_train, y_test = train_test_split(X, y, test_size=0.2, random_state=82)\n",
    "\n",
    "X_train, X_valid, y_train, y_valid = train_test_split(X_train, y_train, test_size=0.2, random_state=82)\n",
    "\n",
    "y_train_nn = pd.get_dummies(y_train, columns=[1])\n",
    "y_train_nn = y_train_nn.rename(columns={0: \"N\", 1: \"S\", 2: \"V\", 3: \"Q\"})\n",
    "\n",
    "y_valid_nn = pd.get_dummies(y_valid, columns=[1])\n",
    "y_valid_nn = y_valid_nn.rename(columns={0: \"N\", 1: \"S\", 2: \"V\", 3: \"Q\"})\n",
    "\n",
    "y_test_nn = pd.get_dummies(y_test, columns=[1])\n",
    "y_test_nn = y_test_nn.rename(columns={0: \"N\", 1: \"S\", 2: \"V\", 3: \"Q\"})"
   ]
  },
  {
   "cell_type": "code",
   "execution_count": 9,
   "metadata": {},
   "outputs": [],
   "source": [
    "# Read csv file into df\n",
    "df_generated = pd.read_csv('./Dataset_mitbih/Synthetic/generated_samples.csv', header=None)\n",
    "df_generated = df_generated[df_generated[187] != 187]\n",
    "# Get the first 2000 rows for the generated data\n",
    "df_generated = df_generated.iloc[:2000, :]"
   ]
  },
  {
   "cell_type": "code",
   "execution_count": 10,
   "metadata": {},
   "outputs": [],
   "source": [
    "X_generated = df_generated.iloc[:, :-1]\n",
    "y_generated = df_generated.iloc[:, -1]"
   ]
  },
  {
   "cell_type": "code",
   "execution_count": 11,
   "metadata": {},
   "outputs": [],
   "source": [
    "# Add to dfs together\n",
    "X_train = pd.concat([X_train, X_generated], ignore_index=True)\n",
    "y_train = pd.concat([y_train, y_generated], ignore_index=True)\n",
    "\n",
    "y_train_nn = pd.get_dummies(y_train, columns=[1])\n",
    "y_train_nn = y_train_nn.rename(columns={0: \"N\", 1: \"S\", 2: \"V\", 3: \"Q\"})\n"
   ]
  },
  {
   "cell_type": "code",
   "execution_count": 12,
   "metadata": {},
   "outputs": [
    {
     "data": {
      "text/html": [
       "<div>\n",
       "<style scoped>\n",
       "    .dataframe tbody tr th:only-of-type {\n",
       "        vertical-align: middle;\n",
       "    }\n",
       "\n",
       "    .dataframe tbody tr th {\n",
       "        vertical-align: top;\n",
       "    }\n",
       "\n",
       "    .dataframe thead th {\n",
       "        text-align: right;\n",
       "    }\n",
       "</style>\n",
       "<table border=\"1\" class=\"dataframe\">\n",
       "  <thead>\n",
       "    <tr style=\"text-align: right;\">\n",
       "      <th></th>\n",
       "      <th>0</th>\n",
       "      <th>1</th>\n",
       "      <th>2</th>\n",
       "      <th>3</th>\n",
       "      <th>4</th>\n",
       "      <th>5</th>\n",
       "      <th>6</th>\n",
       "      <th>7</th>\n",
       "      <th>8</th>\n",
       "      <th>9</th>\n",
       "      <th>...</th>\n",
       "      <th>177</th>\n",
       "      <th>178</th>\n",
       "      <th>179</th>\n",
       "      <th>180</th>\n",
       "      <th>181</th>\n",
       "      <th>182</th>\n",
       "      <th>183</th>\n",
       "      <th>184</th>\n",
       "      <th>185</th>\n",
       "      <th>186</th>\n",
       "    </tr>\n",
       "  </thead>\n",
       "  <tbody>\n",
       "    <tr>\n",
       "      <th>0</th>\n",
       "      <td>1.000000</td>\n",
       "      <td>0.886935</td>\n",
       "      <td>0.439698</td>\n",
       "      <td>0.213568</td>\n",
       "      <td>0.266332</td>\n",
       "      <td>0.261307</td>\n",
       "      <td>0.238693</td>\n",
       "      <td>0.241206</td>\n",
       "      <td>0.228643</td>\n",
       "      <td>0.233668</td>\n",
       "      <td>...</td>\n",
       "      <td>0.000000</td>\n",
       "      <td>0.000000</td>\n",
       "      <td>0.000000</td>\n",
       "      <td>0.000000</td>\n",
       "      <td>0.000000</td>\n",
       "      <td>0.000000</td>\n",
       "      <td>0.000000</td>\n",
       "      <td>0.000000</td>\n",
       "      <td>0.000000</td>\n",
       "      <td>0.000000</td>\n",
       "    </tr>\n",
       "    <tr>\n",
       "      <th>1</th>\n",
       "      <td>0.955654</td>\n",
       "      <td>0.893570</td>\n",
       "      <td>0.811530</td>\n",
       "      <td>0.735033</td>\n",
       "      <td>0.615299</td>\n",
       "      <td>0.478936</td>\n",
       "      <td>0.327051</td>\n",
       "      <td>0.213969</td>\n",
       "      <td>0.127494</td>\n",
       "      <td>0.110865</td>\n",
       "      <td>...</td>\n",
       "      <td>0.000000</td>\n",
       "      <td>0.000000</td>\n",
       "      <td>0.000000</td>\n",
       "      <td>0.000000</td>\n",
       "      <td>0.000000</td>\n",
       "      <td>0.000000</td>\n",
       "      <td>0.000000</td>\n",
       "      <td>0.000000</td>\n",
       "      <td>0.000000</td>\n",
       "      <td>0.000000</td>\n",
       "    </tr>\n",
       "    <tr>\n",
       "      <th>2</th>\n",
       "      <td>0.819444</td>\n",
       "      <td>0.620370</td>\n",
       "      <td>0.393519</td>\n",
       "      <td>0.324074</td>\n",
       "      <td>0.280093</td>\n",
       "      <td>0.212963</td>\n",
       "      <td>0.226852</td>\n",
       "      <td>0.247685</td>\n",
       "      <td>0.268519</td>\n",
       "      <td>0.263889</td>\n",
       "      <td>...</td>\n",
       "      <td>0.000000</td>\n",
       "      <td>0.000000</td>\n",
       "      <td>0.000000</td>\n",
       "      <td>0.000000</td>\n",
       "      <td>0.000000</td>\n",
       "      <td>0.000000</td>\n",
       "      <td>0.000000</td>\n",
       "      <td>0.000000</td>\n",
       "      <td>0.000000</td>\n",
       "      <td>0.000000</td>\n",
       "    </tr>\n",
       "    <tr>\n",
       "      <th>3</th>\n",
       "      <td>0.782895</td>\n",
       "      <td>0.648026</td>\n",
       "      <td>0.595395</td>\n",
       "      <td>0.595395</td>\n",
       "      <td>0.559211</td>\n",
       "      <td>0.532895</td>\n",
       "      <td>0.486842</td>\n",
       "      <td>0.437500</td>\n",
       "      <td>0.325658</td>\n",
       "      <td>0.217105</td>\n",
       "      <td>...</td>\n",
       "      <td>0.000000</td>\n",
       "      <td>0.000000</td>\n",
       "      <td>0.000000</td>\n",
       "      <td>0.000000</td>\n",
       "      <td>0.000000</td>\n",
       "      <td>0.000000</td>\n",
       "      <td>0.000000</td>\n",
       "      <td>0.000000</td>\n",
       "      <td>0.000000</td>\n",
       "      <td>0.000000</td>\n",
       "    </tr>\n",
       "    <tr>\n",
       "      <th>4</th>\n",
       "      <td>1.000000</td>\n",
       "      <td>0.496183</td>\n",
       "      <td>0.515267</td>\n",
       "      <td>0.530534</td>\n",
       "      <td>0.541985</td>\n",
       "      <td>0.538168</td>\n",
       "      <td>0.545802</td>\n",
       "      <td>0.480916</td>\n",
       "      <td>0.370229</td>\n",
       "      <td>0.248092</td>\n",
       "      <td>...</td>\n",
       "      <td>0.000000</td>\n",
       "      <td>0.000000</td>\n",
       "      <td>0.000000</td>\n",
       "      <td>0.000000</td>\n",
       "      <td>0.000000</td>\n",
       "      <td>0.000000</td>\n",
       "      <td>0.000000</td>\n",
       "      <td>0.000000</td>\n",
       "      <td>0.000000</td>\n",
       "      <td>0.000000</td>\n",
       "    </tr>\n",
       "    <tr>\n",
       "      <th>...</th>\n",
       "      <td>...</td>\n",
       "      <td>...</td>\n",
       "      <td>...</td>\n",
       "      <td>...</td>\n",
       "      <td>...</td>\n",
       "      <td>...</td>\n",
       "      <td>...</td>\n",
       "      <td>...</td>\n",
       "      <td>...</td>\n",
       "      <td>...</td>\n",
       "      <td>...</td>\n",
       "      <td>...</td>\n",
       "      <td>...</td>\n",
       "      <td>...</td>\n",
       "      <td>...</td>\n",
       "      <td>...</td>\n",
       "      <td>...</td>\n",
       "      <td>...</td>\n",
       "      <td>...</td>\n",
       "      <td>...</td>\n",
       "      <td>...</td>\n",
       "    </tr>\n",
       "    <tr>\n",
       "      <th>71526</th>\n",
       "      <td>0.924037</td>\n",
       "      <td>0.873892</td>\n",
       "      <td>0.303529</td>\n",
       "      <td>0.023341</td>\n",
       "      <td>0.046928</td>\n",
       "      <td>0.091433</td>\n",
       "      <td>0.119312</td>\n",
       "      <td>0.132181</td>\n",
       "      <td>0.169538</td>\n",
       "      <td>0.156241</td>\n",
       "      <td>...</td>\n",
       "      <td>0.001338</td>\n",
       "      <td>0.007638</td>\n",
       "      <td>0.007441</td>\n",
       "      <td>0.005053</td>\n",
       "      <td>0.001765</td>\n",
       "      <td>-0.001221</td>\n",
       "      <td>0.000074</td>\n",
       "      <td>-0.001357</td>\n",
       "      <td>-0.006471</td>\n",
       "      <td>0.005779</td>\n",
       "    </tr>\n",
       "    <tr>\n",
       "      <th>71527</th>\n",
       "      <td>0.998419</td>\n",
       "      <td>1.149103</td>\n",
       "      <td>0.485127</td>\n",
       "      <td>0.073428</td>\n",
       "      <td>0.098134</td>\n",
       "      <td>0.222265</td>\n",
       "      <td>0.242714</td>\n",
       "      <td>0.239308</td>\n",
       "      <td>0.294280</td>\n",
       "      <td>0.317506</td>\n",
       "      <td>...</td>\n",
       "      <td>-0.004033</td>\n",
       "      <td>-0.006170</td>\n",
       "      <td>0.018143</td>\n",
       "      <td>-0.004396</td>\n",
       "      <td>-0.006200</td>\n",
       "      <td>-0.000870</td>\n",
       "      <td>0.004434</td>\n",
       "      <td>-0.009313</td>\n",
       "      <td>0.011600</td>\n",
       "      <td>-0.005737</td>\n",
       "    </tr>\n",
       "    <tr>\n",
       "      <th>71528</th>\n",
       "      <td>0.999697</td>\n",
       "      <td>1.094748</td>\n",
       "      <td>0.375400</td>\n",
       "      <td>0.066259</td>\n",
       "      <td>0.137694</td>\n",
       "      <td>0.238053</td>\n",
       "      <td>0.223513</td>\n",
       "      <td>0.226602</td>\n",
       "      <td>0.297220</td>\n",
       "      <td>0.281922</td>\n",
       "      <td>...</td>\n",
       "      <td>-0.017650</td>\n",
       "      <td>-0.007597</td>\n",
       "      <td>0.010355</td>\n",
       "      <td>0.001839</td>\n",
       "      <td>-0.007734</td>\n",
       "      <td>0.004406</td>\n",
       "      <td>0.003713</td>\n",
       "      <td>-0.012480</td>\n",
       "      <td>0.006060</td>\n",
       "      <td>-0.001882</td>\n",
       "    </tr>\n",
       "    <tr>\n",
       "      <th>71529</th>\n",
       "      <td>0.925218</td>\n",
       "      <td>0.825144</td>\n",
       "      <td>0.250351</td>\n",
       "      <td>0.056180</td>\n",
       "      <td>0.104999</td>\n",
       "      <td>0.121251</td>\n",
       "      <td>0.125076</td>\n",
       "      <td>0.164557</td>\n",
       "      <td>0.201013</td>\n",
       "      <td>0.184540</td>\n",
       "      <td>...</td>\n",
       "      <td>0.004865</td>\n",
       "      <td>0.005076</td>\n",
       "      <td>0.005385</td>\n",
       "      <td>-0.001976</td>\n",
       "      <td>-0.003111</td>\n",
       "      <td>-0.005532</td>\n",
       "      <td>0.001298</td>\n",
       "      <td>-0.003636</td>\n",
       "      <td>-0.003475</td>\n",
       "      <td>0.002376</td>\n",
       "    </tr>\n",
       "    <tr>\n",
       "      <th>71530</th>\n",
       "      <td>0.868424</td>\n",
       "      <td>0.774625</td>\n",
       "      <td>0.160099</td>\n",
       "      <td>0.010637</td>\n",
       "      <td>0.097880</td>\n",
       "      <td>0.144156</td>\n",
       "      <td>0.114464</td>\n",
       "      <td>0.227072</td>\n",
       "      <td>0.233755</td>\n",
       "      <td>0.225106</td>\n",
       "      <td>...</td>\n",
       "      <td>-0.003804</td>\n",
       "      <td>0.010517</td>\n",
       "      <td>0.010681</td>\n",
       "      <td>0.005324</td>\n",
       "      <td>0.001738</td>\n",
       "      <td>0.004245</td>\n",
       "      <td>-0.007029</td>\n",
       "      <td>0.009871</td>\n",
       "      <td>0.005994</td>\n",
       "      <td>0.004940</td>\n",
       "    </tr>\n",
       "  </tbody>\n",
       "</table>\n",
       "<p>71531 rows × 187 columns</p>\n",
       "</div>"
      ],
      "text/plain": [
       "            0         1         2         3         4         5         6    \\\n",
       "0      1.000000  0.886935  0.439698  0.213568  0.266332  0.261307  0.238693   \n",
       "1      0.955654  0.893570  0.811530  0.735033  0.615299  0.478936  0.327051   \n",
       "2      0.819444  0.620370  0.393519  0.324074  0.280093  0.212963  0.226852   \n",
       "3      0.782895  0.648026  0.595395  0.595395  0.559211  0.532895  0.486842   \n",
       "4      1.000000  0.496183  0.515267  0.530534  0.541985  0.538168  0.545802   \n",
       "...         ...       ...       ...       ...       ...       ...       ...   \n",
       "71526  0.924037  0.873892  0.303529  0.023341  0.046928  0.091433  0.119312   \n",
       "71527  0.998419  1.149103  0.485127  0.073428  0.098134  0.222265  0.242714   \n",
       "71528  0.999697  1.094748  0.375400  0.066259  0.137694  0.238053  0.223513   \n",
       "71529  0.925218  0.825144  0.250351  0.056180  0.104999  0.121251  0.125076   \n",
       "71530  0.868424  0.774625  0.160099  0.010637  0.097880  0.144156  0.114464   \n",
       "\n",
       "            7         8         9    ...       177       178       179  \\\n",
       "0      0.241206  0.228643  0.233668  ...  0.000000  0.000000  0.000000   \n",
       "1      0.213969  0.127494  0.110865  ...  0.000000  0.000000  0.000000   \n",
       "2      0.247685  0.268519  0.263889  ...  0.000000  0.000000  0.000000   \n",
       "3      0.437500  0.325658  0.217105  ...  0.000000  0.000000  0.000000   \n",
       "4      0.480916  0.370229  0.248092  ...  0.000000  0.000000  0.000000   \n",
       "...         ...       ...       ...  ...       ...       ...       ...   \n",
       "71526  0.132181  0.169538  0.156241  ...  0.001338  0.007638  0.007441   \n",
       "71527  0.239308  0.294280  0.317506  ... -0.004033 -0.006170  0.018143   \n",
       "71528  0.226602  0.297220  0.281922  ... -0.017650 -0.007597  0.010355   \n",
       "71529  0.164557  0.201013  0.184540  ...  0.004865  0.005076  0.005385   \n",
       "71530  0.227072  0.233755  0.225106  ... -0.003804  0.010517  0.010681   \n",
       "\n",
       "            180       181       182       183       184       185       186  \n",
       "0      0.000000  0.000000  0.000000  0.000000  0.000000  0.000000  0.000000  \n",
       "1      0.000000  0.000000  0.000000  0.000000  0.000000  0.000000  0.000000  \n",
       "2      0.000000  0.000000  0.000000  0.000000  0.000000  0.000000  0.000000  \n",
       "3      0.000000  0.000000  0.000000  0.000000  0.000000  0.000000  0.000000  \n",
       "4      0.000000  0.000000  0.000000  0.000000  0.000000  0.000000  0.000000  \n",
       "...         ...       ...       ...       ...       ...       ...       ...  \n",
       "71526  0.005053  0.001765 -0.001221  0.000074 -0.001357 -0.006471  0.005779  \n",
       "71527 -0.004396 -0.006200 -0.000870  0.004434 -0.009313  0.011600 -0.005737  \n",
       "71528  0.001839 -0.007734  0.004406  0.003713 -0.012480  0.006060 -0.001882  \n",
       "71529 -0.001976 -0.003111 -0.005532  0.001298 -0.003636 -0.003475  0.002376  \n",
       "71530  0.005324  0.001738  0.004245 -0.007029  0.009871  0.005994  0.004940  \n",
       "\n",
       "[71531 rows x 187 columns]"
      ]
     },
     "execution_count": 12,
     "metadata": {},
     "output_type": "execute_result"
    }
   ],
   "source": [
    "X_train"
   ]
  },
  {
   "cell_type": "code",
   "execution_count": 13,
   "metadata": {},
   "outputs": [
    {
     "data": {
      "text/plain": [
       "0        0.0\n",
       "1        3.0\n",
       "2        2.0\n",
       "3        3.0\n",
       "4        3.0\n",
       "        ... \n",
       "71526    1.0\n",
       "71527    1.0\n",
       "71528    1.0\n",
       "71529    1.0\n",
       "71530    1.0\n",
       "Name: 187, Length: 71531, dtype: float64"
      ]
     },
     "execution_count": 13,
     "metadata": {},
     "output_type": "execute_result"
    }
   ],
   "source": [
    "y_train"
   ]
  },
  {
   "cell_type": "code",
   "execution_count": 14,
   "metadata": {},
   "outputs": [
    {
     "data": {
      "text/html": [
       "<div>\n",
       "<style scoped>\n",
       "    .dataframe tbody tr th:only-of-type {\n",
       "        vertical-align: middle;\n",
       "    }\n",
       "\n",
       "    .dataframe tbody tr th {\n",
       "        vertical-align: top;\n",
       "    }\n",
       "\n",
       "    .dataframe thead th {\n",
       "        text-align: right;\n",
       "    }\n",
       "</style>\n",
       "<table border=\"1\" class=\"dataframe\">\n",
       "  <thead>\n",
       "    <tr style=\"text-align: right;\">\n",
       "      <th></th>\n",
       "      <th>N</th>\n",
       "      <th>S</th>\n",
       "      <th>V</th>\n",
       "      <th>Q</th>\n",
       "    </tr>\n",
       "  </thead>\n",
       "  <tbody>\n",
       "    <tr>\n",
       "      <th>0</th>\n",
       "      <td>1</td>\n",
       "      <td>0</td>\n",
       "      <td>0</td>\n",
       "      <td>0</td>\n",
       "    </tr>\n",
       "    <tr>\n",
       "      <th>1</th>\n",
       "      <td>0</td>\n",
       "      <td>0</td>\n",
       "      <td>0</td>\n",
       "      <td>1</td>\n",
       "    </tr>\n",
       "    <tr>\n",
       "      <th>2</th>\n",
       "      <td>0</td>\n",
       "      <td>0</td>\n",
       "      <td>1</td>\n",
       "      <td>0</td>\n",
       "    </tr>\n",
       "    <tr>\n",
       "      <th>3</th>\n",
       "      <td>0</td>\n",
       "      <td>0</td>\n",
       "      <td>0</td>\n",
       "      <td>1</td>\n",
       "    </tr>\n",
       "    <tr>\n",
       "      <th>4</th>\n",
       "      <td>0</td>\n",
       "      <td>0</td>\n",
       "      <td>0</td>\n",
       "      <td>1</td>\n",
       "    </tr>\n",
       "    <tr>\n",
       "      <th>...</th>\n",
       "      <td>...</td>\n",
       "      <td>...</td>\n",
       "      <td>...</td>\n",
       "      <td>...</td>\n",
       "    </tr>\n",
       "    <tr>\n",
       "      <th>71526</th>\n",
       "      <td>0</td>\n",
       "      <td>1</td>\n",
       "      <td>0</td>\n",
       "      <td>0</td>\n",
       "    </tr>\n",
       "    <tr>\n",
       "      <th>71527</th>\n",
       "      <td>0</td>\n",
       "      <td>1</td>\n",
       "      <td>0</td>\n",
       "      <td>0</td>\n",
       "    </tr>\n",
       "    <tr>\n",
       "      <th>71528</th>\n",
       "      <td>0</td>\n",
       "      <td>1</td>\n",
       "      <td>0</td>\n",
       "      <td>0</td>\n",
       "    </tr>\n",
       "    <tr>\n",
       "      <th>71529</th>\n",
       "      <td>0</td>\n",
       "      <td>1</td>\n",
       "      <td>0</td>\n",
       "      <td>0</td>\n",
       "    </tr>\n",
       "    <tr>\n",
       "      <th>71530</th>\n",
       "      <td>0</td>\n",
       "      <td>1</td>\n",
       "      <td>0</td>\n",
       "      <td>0</td>\n",
       "    </tr>\n",
       "  </tbody>\n",
       "</table>\n",
       "<p>71531 rows × 4 columns</p>\n",
       "</div>"
      ],
      "text/plain": [
       "       N  S  V  Q\n",
       "0      1  0  0  0\n",
       "1      0  0  0  1\n",
       "2      0  0  1  0\n",
       "3      0  0  0  1\n",
       "4      0  0  0  1\n",
       "...   .. .. .. ..\n",
       "71526  0  1  0  0\n",
       "71527  0  1  0  0\n",
       "71528  0  1  0  0\n",
       "71529  0  1  0  0\n",
       "71530  0  1  0  0\n",
       "\n",
       "[71531 rows x 4 columns]"
      ]
     },
     "execution_count": 14,
     "metadata": {},
     "output_type": "execute_result"
    }
   ],
   "source": [
    "y_train_nn"
   ]
  },
  {
   "cell_type": "code",
   "execution_count": 15,
   "metadata": {},
   "outputs": [
    {
     "data": {
      "text/html": [
       "<div>\n",
       "<style scoped>\n",
       "    .dataframe tbody tr th:only-of-type {\n",
       "        vertical-align: middle;\n",
       "    }\n",
       "\n",
       "    .dataframe tbody tr th {\n",
       "        vertical-align: top;\n",
       "    }\n",
       "\n",
       "    .dataframe thead th {\n",
       "        text-align: right;\n",
       "    }\n",
       "</style>\n",
       "<table border=\"1\" class=\"dataframe\">\n",
       "  <thead>\n",
       "    <tr style=\"text-align: right;\">\n",
       "      <th></th>\n",
       "      <th>0</th>\n",
       "      <th>1</th>\n",
       "      <th>2</th>\n",
       "      <th>3</th>\n",
       "      <th>4</th>\n",
       "      <th>5</th>\n",
       "      <th>6</th>\n",
       "      <th>7</th>\n",
       "      <th>8</th>\n",
       "      <th>9</th>\n",
       "      <th>...</th>\n",
       "      <th>177</th>\n",
       "      <th>178</th>\n",
       "      <th>179</th>\n",
       "      <th>180</th>\n",
       "      <th>181</th>\n",
       "      <th>182</th>\n",
       "      <th>183</th>\n",
       "      <th>184</th>\n",
       "      <th>185</th>\n",
       "      <th>186</th>\n",
       "    </tr>\n",
       "  </thead>\n",
       "  <tbody>\n",
       "    <tr>\n",
       "      <th>18928</th>\n",
       "      <td>0.935760</td>\n",
       "      <td>0.997859</td>\n",
       "      <td>0.526767</td>\n",
       "      <td>0.072805</td>\n",
       "      <td>0.036403</td>\n",
       "      <td>0.081370</td>\n",
       "      <td>0.089936</td>\n",
       "      <td>0.089936</td>\n",
       "      <td>0.077088</td>\n",
       "      <td>0.070664</td>\n",
       "      <td>...</td>\n",
       "      <td>0.0</td>\n",
       "      <td>0.0</td>\n",
       "      <td>0.0</td>\n",
       "      <td>0.0</td>\n",
       "      <td>0.0</td>\n",
       "      <td>0.0</td>\n",
       "      <td>0.0</td>\n",
       "      <td>0.0</td>\n",
       "      <td>0.0</td>\n",
       "      <td>0.0</td>\n",
       "    </tr>\n",
       "    <tr>\n",
       "      <th>97196</th>\n",
       "      <td>0.947500</td>\n",
       "      <td>0.765000</td>\n",
       "      <td>0.240000</td>\n",
       "      <td>0.022500</td>\n",
       "      <td>0.042500</td>\n",
       "      <td>0.047500</td>\n",
       "      <td>0.005000</td>\n",
       "      <td>0.000000</td>\n",
       "      <td>0.002500</td>\n",
       "      <td>0.002500</td>\n",
       "      <td>...</td>\n",
       "      <td>0.0</td>\n",
       "      <td>0.0</td>\n",
       "      <td>0.0</td>\n",
       "      <td>0.0</td>\n",
       "      <td>0.0</td>\n",
       "      <td>0.0</td>\n",
       "      <td>0.0</td>\n",
       "      <td>0.0</td>\n",
       "      <td>0.0</td>\n",
       "      <td>0.0</td>\n",
       "    </tr>\n",
       "    <tr>\n",
       "      <th>19504</th>\n",
       "      <td>1.000000</td>\n",
       "      <td>0.991736</td>\n",
       "      <td>0.723140</td>\n",
       "      <td>0.479339</td>\n",
       "      <td>0.198347</td>\n",
       "      <td>0.103306</td>\n",
       "      <td>0.190083</td>\n",
       "      <td>0.272727</td>\n",
       "      <td>0.355372</td>\n",
       "      <td>0.388430</td>\n",
       "      <td>...</td>\n",
       "      <td>0.0</td>\n",
       "      <td>0.0</td>\n",
       "      <td>0.0</td>\n",
       "      <td>0.0</td>\n",
       "      <td>0.0</td>\n",
       "      <td>0.0</td>\n",
       "      <td>0.0</td>\n",
       "      <td>0.0</td>\n",
       "      <td>0.0</td>\n",
       "      <td>0.0</td>\n",
       "    </tr>\n",
       "    <tr>\n",
       "      <th>97578</th>\n",
       "      <td>0.224359</td>\n",
       "      <td>0.724359</td>\n",
       "      <td>0.820513</td>\n",
       "      <td>0.121795</td>\n",
       "      <td>0.198718</td>\n",
       "      <td>0.583333</td>\n",
       "      <td>0.641026</td>\n",
       "      <td>0.692308</td>\n",
       "      <td>0.698718</td>\n",
       "      <td>0.724359</td>\n",
       "      <td>...</td>\n",
       "      <td>0.0</td>\n",
       "      <td>0.0</td>\n",
       "      <td>0.0</td>\n",
       "      <td>0.0</td>\n",
       "      <td>0.0</td>\n",
       "      <td>0.0</td>\n",
       "      <td>0.0</td>\n",
       "      <td>0.0</td>\n",
       "      <td>0.0</td>\n",
       "      <td>0.0</td>\n",
       "    </tr>\n",
       "    <tr>\n",
       "      <th>67613</th>\n",
       "      <td>1.000000</td>\n",
       "      <td>0.673114</td>\n",
       "      <td>0.168279</td>\n",
       "      <td>0.168279</td>\n",
       "      <td>0.117988</td>\n",
       "      <td>0.027079</td>\n",
       "      <td>0.019342</td>\n",
       "      <td>0.065764</td>\n",
       "      <td>0.174081</td>\n",
       "      <td>0.255319</td>\n",
       "      <td>...</td>\n",
       "      <td>0.0</td>\n",
       "      <td>0.0</td>\n",
       "      <td>0.0</td>\n",
       "      <td>0.0</td>\n",
       "      <td>0.0</td>\n",
       "      <td>0.0</td>\n",
       "      <td>0.0</td>\n",
       "      <td>0.0</td>\n",
       "      <td>0.0</td>\n",
       "      <td>0.0</td>\n",
       "    </tr>\n",
       "    <tr>\n",
       "      <th>...</th>\n",
       "      <td>...</td>\n",
       "      <td>...</td>\n",
       "      <td>...</td>\n",
       "      <td>...</td>\n",
       "      <td>...</td>\n",
       "      <td>...</td>\n",
       "      <td>...</td>\n",
       "      <td>...</td>\n",
       "      <td>...</td>\n",
       "      <td>...</td>\n",
       "      <td>...</td>\n",
       "      <td>...</td>\n",
       "      <td>...</td>\n",
       "      <td>...</td>\n",
       "      <td>...</td>\n",
       "      <td>...</td>\n",
       "      <td>...</td>\n",
       "      <td>...</td>\n",
       "      <td>...</td>\n",
       "      <td>...</td>\n",
       "      <td>...</td>\n",
       "    </tr>\n",
       "    <tr>\n",
       "      <th>20338</th>\n",
       "      <td>1.000000</td>\n",
       "      <td>0.462783</td>\n",
       "      <td>0.346278</td>\n",
       "      <td>0.268608</td>\n",
       "      <td>0.252427</td>\n",
       "      <td>0.229773</td>\n",
       "      <td>0.245955</td>\n",
       "      <td>0.258900</td>\n",
       "      <td>0.304207</td>\n",
       "      <td>0.317152</td>\n",
       "      <td>...</td>\n",
       "      <td>0.0</td>\n",
       "      <td>0.0</td>\n",
       "      <td>0.0</td>\n",
       "      <td>0.0</td>\n",
       "      <td>0.0</td>\n",
       "      <td>0.0</td>\n",
       "      <td>0.0</td>\n",
       "      <td>0.0</td>\n",
       "      <td>0.0</td>\n",
       "      <td>0.0</td>\n",
       "    </tr>\n",
       "    <tr>\n",
       "      <th>41798</th>\n",
       "      <td>1.000000</td>\n",
       "      <td>0.910072</td>\n",
       "      <td>0.654676</td>\n",
       "      <td>0.266187</td>\n",
       "      <td>0.183453</td>\n",
       "      <td>0.107914</td>\n",
       "      <td>0.104317</td>\n",
       "      <td>0.079137</td>\n",
       "      <td>0.082734</td>\n",
       "      <td>0.064748</td>\n",
       "      <td>...</td>\n",
       "      <td>0.0</td>\n",
       "      <td>0.0</td>\n",
       "      <td>0.0</td>\n",
       "      <td>0.0</td>\n",
       "      <td>0.0</td>\n",
       "      <td>0.0</td>\n",
       "      <td>0.0</td>\n",
       "      <td>0.0</td>\n",
       "      <td>0.0</td>\n",
       "      <td>0.0</td>\n",
       "    </tr>\n",
       "    <tr>\n",
       "      <th>49813</th>\n",
       "      <td>0.892057</td>\n",
       "      <td>0.841141</td>\n",
       "      <td>0.329939</td>\n",
       "      <td>0.089613</td>\n",
       "      <td>0.028513</td>\n",
       "      <td>0.004073</td>\n",
       "      <td>0.012220</td>\n",
       "      <td>0.000000</td>\n",
       "      <td>0.061100</td>\n",
       "      <td>0.248473</td>\n",
       "      <td>...</td>\n",
       "      <td>0.0</td>\n",
       "      <td>0.0</td>\n",
       "      <td>0.0</td>\n",
       "      <td>0.0</td>\n",
       "      <td>0.0</td>\n",
       "      <td>0.0</td>\n",
       "      <td>0.0</td>\n",
       "      <td>0.0</td>\n",
       "      <td>0.0</td>\n",
       "      <td>0.0</td>\n",
       "    </tr>\n",
       "    <tr>\n",
       "      <th>53114</th>\n",
       "      <td>1.000000</td>\n",
       "      <td>0.635739</td>\n",
       "      <td>0.013746</td>\n",
       "      <td>0.106529</td>\n",
       "      <td>0.089347</td>\n",
       "      <td>0.106529</td>\n",
       "      <td>0.079038</td>\n",
       "      <td>0.096220</td>\n",
       "      <td>0.085911</td>\n",
       "      <td>0.099656</td>\n",
       "      <td>...</td>\n",
       "      <td>0.0</td>\n",
       "      <td>0.0</td>\n",
       "      <td>0.0</td>\n",
       "      <td>0.0</td>\n",
       "      <td>0.0</td>\n",
       "      <td>0.0</td>\n",
       "      <td>0.0</td>\n",
       "      <td>0.0</td>\n",
       "      <td>0.0</td>\n",
       "      <td>0.0</td>\n",
       "    </tr>\n",
       "    <tr>\n",
       "      <th>69519</th>\n",
       "      <td>1.000000</td>\n",
       "      <td>0.775120</td>\n",
       "      <td>0.322967</td>\n",
       "      <td>0.133971</td>\n",
       "      <td>0.157895</td>\n",
       "      <td>0.150718</td>\n",
       "      <td>0.105263</td>\n",
       "      <td>0.086124</td>\n",
       "      <td>0.086124</td>\n",
       "      <td>0.095694</td>\n",
       "      <td>...</td>\n",
       "      <td>0.0</td>\n",
       "      <td>0.0</td>\n",
       "      <td>0.0</td>\n",
       "      <td>0.0</td>\n",
       "      <td>0.0</td>\n",
       "      <td>0.0</td>\n",
       "      <td>0.0</td>\n",
       "      <td>0.0</td>\n",
       "      <td>0.0</td>\n",
       "      <td>0.0</td>\n",
       "    </tr>\n",
       "  </tbody>\n",
       "</table>\n",
       "<p>17383 rows × 187 columns</p>\n",
       "</div>"
      ],
      "text/plain": [
       "            0         1         2         3         4         5         6    \\\n",
       "18928  0.935760  0.997859  0.526767  0.072805  0.036403  0.081370  0.089936   \n",
       "97196  0.947500  0.765000  0.240000  0.022500  0.042500  0.047500  0.005000   \n",
       "19504  1.000000  0.991736  0.723140  0.479339  0.198347  0.103306  0.190083   \n",
       "97578  0.224359  0.724359  0.820513  0.121795  0.198718  0.583333  0.641026   \n",
       "67613  1.000000  0.673114  0.168279  0.168279  0.117988  0.027079  0.019342   \n",
       "...         ...       ...       ...       ...       ...       ...       ...   \n",
       "20338  1.000000  0.462783  0.346278  0.268608  0.252427  0.229773  0.245955   \n",
       "41798  1.000000  0.910072  0.654676  0.266187  0.183453  0.107914  0.104317   \n",
       "49813  0.892057  0.841141  0.329939  0.089613  0.028513  0.004073  0.012220   \n",
       "53114  1.000000  0.635739  0.013746  0.106529  0.089347  0.106529  0.079038   \n",
       "69519  1.000000  0.775120  0.322967  0.133971  0.157895  0.150718  0.105263   \n",
       "\n",
       "            7         8         9    ...  177  178  179  180  181  182  183  \\\n",
       "18928  0.089936  0.077088  0.070664  ...  0.0  0.0  0.0  0.0  0.0  0.0  0.0   \n",
       "97196  0.000000  0.002500  0.002500  ...  0.0  0.0  0.0  0.0  0.0  0.0  0.0   \n",
       "19504  0.272727  0.355372  0.388430  ...  0.0  0.0  0.0  0.0  0.0  0.0  0.0   \n",
       "97578  0.692308  0.698718  0.724359  ...  0.0  0.0  0.0  0.0  0.0  0.0  0.0   \n",
       "67613  0.065764  0.174081  0.255319  ...  0.0  0.0  0.0  0.0  0.0  0.0  0.0   \n",
       "...         ...       ...       ...  ...  ...  ...  ...  ...  ...  ...  ...   \n",
       "20338  0.258900  0.304207  0.317152  ...  0.0  0.0  0.0  0.0  0.0  0.0  0.0   \n",
       "41798  0.079137  0.082734  0.064748  ...  0.0  0.0  0.0  0.0  0.0  0.0  0.0   \n",
       "49813  0.000000  0.061100  0.248473  ...  0.0  0.0  0.0  0.0  0.0  0.0  0.0   \n",
       "53114  0.096220  0.085911  0.099656  ...  0.0  0.0  0.0  0.0  0.0  0.0  0.0   \n",
       "69519  0.086124  0.086124  0.095694  ...  0.0  0.0  0.0  0.0  0.0  0.0  0.0   \n",
       "\n",
       "       184  185  186  \n",
       "18928  0.0  0.0  0.0  \n",
       "97196  0.0  0.0  0.0  \n",
       "19504  0.0  0.0  0.0  \n",
       "97578  0.0  0.0  0.0  \n",
       "67613  0.0  0.0  0.0  \n",
       "...    ...  ...  ...  \n",
       "20338  0.0  0.0  0.0  \n",
       "41798  0.0  0.0  0.0  \n",
       "49813  0.0  0.0  0.0  \n",
       "53114  0.0  0.0  0.0  \n",
       "69519  0.0  0.0  0.0  \n",
       "\n",
       "[17383 rows x 187 columns]"
      ]
     },
     "execution_count": 15,
     "metadata": {},
     "output_type": "execute_result"
    }
   ],
   "source": [
    "X_valid"
   ]
  },
  {
   "cell_type": "markdown",
   "metadata": {},
   "source": [
    "## Dataset Distribution"
   ]
  },
  {
   "attachments": {},
   "cell_type": "markdown",
   "metadata": {},
   "source": [
    "### Training set"
   ]
  },
  {
   "cell_type": "code",
   "execution_count": 16,
   "metadata": {},
   "outputs": [
    {
     "name": "stdout",
     "output_type": "stream",
     "text": [
      "0    57960\n",
      "3     5207\n",
      "2     4600\n",
      "1     3764\n",
      "Name: 187, dtype: int64\n"
     ]
    }
   ],
   "source": [
    "y_train=y_train.astype(int)\n",
    "equilibre_train=y_train.value_counts(sort=False)\n",
    "print(equilibre_train)"
   ]
  },
  {
   "cell_type": "code",
   "execution_count": 17,
   "metadata": {},
   "outputs": [
    {
     "data": {
      "image/png": "[encoded data removed]",
      "text/plain": [
       "<Figure size 800x800 with 1 Axes>"
      ]
     },
     "metadata": {},
     "output_type": "display_data"
    }
   ],
   "source": [
    "plt.figure(figsize=(8,8))\n",
    "my_circle=plt.Circle( (0,0), 0.7, color='white')\n",
    "plt.pie(equilibre_train, labels= labels\n",
    "        , colors=['red','green','blue','skyblue','orange'],autopct='%1.1f%%')\n",
    "p=plt.gcf()\n",
    "p.gca().add_artist(my_circle)\n",
    "plt.show()"
   ]
  },
  {
   "attachments": {},
   "cell_type": "markdown",
   "metadata": {},
   "source": [
    "### Testing set"
   ]
  },
  {
   "cell_type": "code",
   "execution_count": 18,
   "metadata": {},
   "outputs": [
    {
     "name": "stdout",
     "output_type": "stream",
     "text": [
      "0    18118\n",
      "1      556\n",
      "2     1448\n",
      "3     1608\n",
      "Name: 187, dtype: int64\n"
     ]
    }
   ],
   "source": [
    "test_df[187]=test_df[187].astype(int)\n",
    "equilibre_test=test_df[187].value_counts(sort=False)\n",
    "print(equilibre_test)"
   ]
  },
  {
   "cell_type": "code",
   "execution_count": 19,
   "metadata": {},
   "outputs": [
    {
     "data": {
      "image/png": "[encoded data removed]",
      "text/plain": [
       "<Figure size 800x800 with 1 Axes>"
      ]
     },
     "metadata": {},
     "output_type": "display_data"
    }
   ],
   "source": [
    "plt.figure(figsize=(8,8))\n",
    "my_circle=plt.Circle( (0,0), 0.7, color='white')\n",
    "plt.pie(equilibre_test, labels= labels\n",
    "        , colors=['red','green','blue','skyblue','orange'],autopct='%1.1f%%')\n",
    "p=plt.gcf()\n",
    "p.gca().add_artist(my_circle)\n",
    "plt.show()"
   ]
  },
  {
   "attachments": {},
   "cell_type": "markdown",
   "metadata": {},
   "source": [
    "## Simple ANN"
   ]
  },
  {
   "cell_type": "code",
   "execution_count": 20,
   "metadata": {},
   "outputs": [
    {
     "name": "stdout",
     "output_type": "stream",
     "text": [
      "Epoch 1/40\n",
      "2236/2236 [==============================] - 11s 4ms/step - loss: 0.2011 - accuracy: 0.9419 - val_loss: 0.1414 - val_accuracy: 0.9596\n",
      "Epoch 2/40\n",
      "2236/2236 [==============================] - 9s 4ms/step - loss: 0.1199 - accuracy: 0.9657 - val_loss: 0.1085 - val_accuracy: 0.9686\n",
      "Epoch 3/40\n",
      "2236/2236 [==============================] - 13s 6ms/step - loss: 0.1004 - accuracy: 0.9714 - val_loss: 0.1009 - val_accuracy: 0.9728\n",
      "Epoch 4/40\n",
      "2236/2236 [==============================] - 10s 4ms/step - loss: 0.0882 - accuracy: 0.9747 - val_loss: 0.1105 - val_accuracy: 0.9704\n",
      "Epoch 5/40\n",
      "2236/2236 [==============================] - 10s 4ms/step - loss: 0.0806 - accuracy: 0.9766 - val_loss: 0.0824 - val_accuracy: 0.9764\n",
      "Epoch 6/40\n",
      "2236/2236 [==============================] - 10s 4ms/step - loss: 0.0737 - accuracy: 0.9781 - val_loss: 0.0814 - val_accuracy: 0.9762\n",
      "Epoch 7/40\n",
      "2236/2236 [==============================] - 10s 5ms/step - loss: 0.0685 - accuracy: 0.9800 - val_loss: 0.0754 - val_accuracy: 0.9788\n",
      "Epoch 8/40\n",
      "2236/2236 [==============================] - 11s 5ms/step - loss: 0.0649 - accuracy: 0.9807 - val_loss: 0.0782 - val_accuracy: 0.9783\n",
      "Epoch 9/40\n",
      "2236/2236 [==============================] - 10s 4ms/step - loss: 0.0607 - accuracy: 0.9817 - val_loss: 0.0741 - val_accuracy: 0.9788\n",
      "Epoch 10/40\n",
      "2236/2236 [==============================] - 10s 4ms/step - loss: 0.0583 - accuracy: 0.9823 - val_loss: 0.0724 - val_accuracy: 0.9800\n",
      "Epoch 11/40\n",
      "2236/2236 [==============================] - 10s 4ms/step - loss: 0.0551 - accuracy: 0.9831 - val_loss: 0.0783 - val_accuracy: 0.9793\n",
      "Epoch 12/40\n",
      "2236/2236 [==============================] - 10s 4ms/step - loss: 0.0524 - accuracy: 0.9837 - val_loss: 0.0806 - val_accuracy: 0.9791\n",
      "Epoch 13/40\n",
      "2236/2236 [==============================] - 10s 4ms/step - loss: 0.0491 - accuracy: 0.9850 - val_loss: 0.0736 - val_accuracy: 0.9825\n",
      "Epoch 14/40\n",
      "2236/2236 [==============================] - 10s 4ms/step - loss: 0.0467 - accuracy: 0.9855 - val_loss: 0.1125 - val_accuracy: 0.9741\n",
      "Epoch 15/40\n",
      "2236/2236 [==============================] - 10s 4ms/step - loss: 0.0440 - accuracy: 0.9864 - val_loss: 0.0727 - val_accuracy: 0.9814\n",
      "Epoch 16/40\n",
      "2236/2236 [==============================] - 10s 5ms/step - loss: 0.0435 - accuracy: 0.9861 - val_loss: 0.0723 - val_accuracy: 0.9812\n",
      "Epoch 17/40\n",
      "2236/2236 [==============================] - 10s 4ms/step - loss: 0.0415 - accuracy: 0.9869 - val_loss: 0.0760 - val_accuracy: 0.9805\n",
      "Epoch 18/40\n",
      "2236/2236 [==============================] - 10s 4ms/step - loss: 0.0383 - accuracy: 0.9873 - val_loss: 0.0706 - val_accuracy: 0.9826\n",
      "Epoch 19/40\n",
      "2236/2236 [==============================] - 9s 4ms/step - loss: 0.0370 - accuracy: 0.9880 - val_loss: 0.0697 - val_accuracy: 0.9826\n",
      "Epoch 20/40\n",
      "2236/2236 [==============================] - 10s 5ms/step - loss: 0.0352 - accuracy: 0.9886 - val_loss: 0.0722 - val_accuracy: 0.9830\n",
      "Epoch 21/40\n",
      "2236/2236 [==============================] - 10s 4ms/step - loss: 0.0340 - accuracy: 0.9890 - val_loss: 0.0730 - val_accuracy: 0.9830\n",
      "Epoch 22/40\n",
      "2236/2236 [==============================] - 10s 4ms/step - loss: 0.0345 - accuracy: 0.9888 - val_loss: 0.0715 - val_accuracy: 0.9834\n",
      "Epoch 23/40\n",
      "2236/2236 [==============================] - 11s 5ms/step - loss: 0.0323 - accuracy: 0.9899 - val_loss: 0.0847 - val_accuracy: 0.9820\n",
      "Epoch 24/40\n",
      "2236/2236 [==============================] - 10s 4ms/step - loss: 0.0311 - accuracy: 0.9903 - val_loss: 0.0806 - val_accuracy: 0.9807\n",
      "Epoch 25/40\n",
      "2236/2236 [==============================] - 11s 5ms/step - loss: 0.0308 - accuracy: 0.9902 - val_loss: 0.0894 - val_accuracy: 0.9831\n",
      "Epoch 26/40\n",
      "2236/2236 [==============================] - 8s 3ms/step - loss: 0.0295 - accuracy: 0.9904 - val_loss: 0.0853 - val_accuracy: 0.9826\n",
      "Epoch 27/40\n",
      "2236/2236 [==============================] - 6s 3ms/step - loss: 0.0287 - accuracy: 0.9909 - val_loss: 0.0849 - val_accuracy: 0.9832\n"
     ]
    }
   ],
   "source": [
    "model_ann = Sequential([\n",
    "    Dense(256, activation='relu', input_dim=(X_train.shape[1])),\n",
    "    Dense(128, activation='relu'),\n",
    "    Dense(128, activation='relu'),\n",
    "    Dense(64, activation='relu'),\n",
    "    Dense(32, activation='relu'),\n",
    "    Dense(4, activation='softmax')\n",
    "])\n",
    "\n",
    "model_ann.compile(optimizer='adam', loss='categorical_crossentropy', metrics=['accuracy'])\n",
    "\n",
    "callbacks = [EarlyStopping(monitor='val_loss', patience=8),\n",
    "             ModelCheckpoint(filepath='best_ann_5.h5', monitor='val_loss', save_best_only=True)]\n",
    "\n",
    "\n",
    "history_ann = model_ann.fit(X_train, y_train_nn, epochs=40, callbacks=callbacks, batch_size=32, validation_data=(X_valid, y_valid_nn))\n",
    "model_ann.load_weights('best_ann_5.h5')\n",
    "save_model(model_ann, 'ANN_MITBIH_with_GAN_Data', 'keras')"
   ]
  },
  {
   "cell_type": "code",
   "execution_count": 21,
   "metadata": {},
   "outputs": [
    {
     "data": {
      "image/png": "[encoded data removed]",
      "text/plain": [
       "<Figure size 640x480 with 1 Axes>"
      ]
     },
     "metadata": {},
     "output_type": "display_data"
    }
   ],
   "source": [
    "history_df_ann = pd.DataFrame(history_ann.history)\n",
    "history_df_ann.index += 1\n",
    "\n",
    "cols = ['loss', 'val_loss']\n",
    "\n",
    "plt.figure()\n",
    "plt.plot(history_df_ann[cols])\n",
    "plt.grid(True)\n",
    "plt.xlabel('Epoch')\n",
    "plt.gca().set_xlim(left=1)\n",
    "plt.title(\"Loss - ANN\")\n",
    "plt.legend(cols, loc=\"right\")\n",
    "plt.show()"
   ]
  },
  {
   "cell_type": "code",
   "execution_count": 22,
   "metadata": {},
   "outputs": [
    {
     "data": {
      "image/png": "[encoded data removed]",
      "text/plain": [
       "<Figure size 640x480 with 1 Axes>"
      ]
     },
     "metadata": {},
     "output_type": "display_data"
    }
   ],
   "source": [
    "cols = ['accuracy', 'val_accuracy']\n",
    "\n",
    "plt.figure()\n",
    "plt.plot(history_df_ann[cols])\n",
    "plt.grid(True)\n",
    "plt.xlabel('Epoch')\n",
    "plt.gca().set_xlim(left=1)\n",
    "plt.title(\"Accuracy - ANN\")\n",
    "plt.legend(cols, loc=\"right\")\n",
    "plt.show()"
   ]
  },
  {
   "cell_type": "code",
   "execution_count": 24,
   "metadata": {},
   "outputs": [
    {
     "name": "stdout",
     "output_type": "stream",
     "text": [
      "680/680 [==============================] - 1s 985us/step\n",
      "Weighted Accuracy of ANN:  0.9827419577523125\n"
     ]
    }
   ],
   "source": [
    "# Predict test set labels\n",
    "y_pred_1  = model_ann.predict(X_test)\n",
    "y_pred_ann = np.argmax(y_pred_1 , axis=1)\n",
    "\n",
    "print('Weighted Accuracy of ANN: ', accuracy_score(y_test, y_pred_ann))"
   ]
  },
  {
   "cell_type": "code",
   "execution_count": 25,
   "metadata": {},
   "outputs": [
    {
     "data": {
      "image/png": "[encoded data removed]",
      "text/plain": [
       "<Figure size 500x500 with 2 Axes>"
      ]
     },
     "metadata": {},
     "output_type": "display_data"
    }
   ],
   "source": [
    "# Calculate confusion matrix\n",
    "cm = confusion_matrix(y_test, y_pred_ann)\n",
    "\n",
    "# Plot confusion matrix\n",
    "plt.figure(figsize=(5,5))\n",
    "ax = plt.subplot(111)\n",
    "sns.heatmap(cm, annot=True, fmt='g', cmap='Blues', square=True)\n",
    "plt.xlabel('Predicted label')\n",
    "plt.ylabel('True label')\n",
    "plt.title('Confusion matrix ANN')\n",
    "ax.xaxis.set_ticklabels(labels_short)\n",
    "ax.yaxis.set_ticklabels(labels_short)\n",
    "plt.show()"
   ]
  },
  {
   "cell_type": "code",
   "execution_count": 26,
   "metadata": {},
   "outputs": [
    {
     "name": "stdout",
     "output_type": "stream",
     "text": [
      "Accuracy per class:  [0.99292622 0.71708185 0.95171026 0.98987982]\n",
      "Macro/average accuracy:  0.9128995394283954\n"
     ]
    }
   ],
   "source": [
    "# Calculate the accurcay for each label\n",
    "acc_per_class = cm.diagonal()/cm.sum(axis=1)\n",
    "print('Accuracy per class: ', acc_per_class)\n",
    "# Take the avearge of the accuracies\n",
    "acc = np.mean(acc_per_class)\n",
    "print('Macro/average accuracy: ', acc)\n"
   ]
  },
  {
   "cell_type": "code",
   "execution_count": 27,
   "metadata": {},
   "outputs": [
    {
     "name": "stdout",
     "output_type": "stream",
     "text": [
      "                                   precision    recall  f1-score   support\n",
      "\n",
      "                           Normal     0.9881    0.9929    0.9905     18095\n",
      "                 Artial Premature     0.8956    0.7171    0.7964       562\n",
      "Premature ventricular contraction     0.9588    0.9517    0.9552      1491\n",
      "                            Paced     0.9684    0.9899    0.9790      1581\n",
      "\n",
      "                         accuracy                         0.9827     21729\n",
      "                        macro avg     0.9527    0.9129    0.9303     21729\n",
      "                     weighted avg     0.9823    0.9827    0.9822     21729\n",
      "\n"
     ]
    }
   ],
   "source": [
    "print(classification_report(y_test, y_pred_ann, target_names=labels, digits=4))"
   ]
  },
  {
   "cell_type": "markdown",
   "metadata": {},
   "source": [
    "#### False Positive Rate"
   ]
  },
  {
   "cell_type": "code",
   "execution_count": 28,
   "metadata": {},
   "outputs": [
    {
     "name": "stdout",
     "output_type": "stream",
     "text": [
      "Total number of abnormal classes:  3634\n",
      "Total number of wrong predicted abnormal classes:  216\n",
      "Percentage of sick persons that are classified as normal:  0.6957621758380772 %\n"
     ]
    }
   ],
   "source": [
    "num_classes = cm.shape[0]\n",
    "total_abnormal= 0\n",
    "total_wrong_predicted = 0\n",
    "for i in range(num_classes-1): \n",
    "    total_abnormal_class = np.sum(cm[i+1, :])\n",
    "    total_abnormal = total_abnormal + total_abnormal_class\n",
    "\n",
    "    wrong_predicted = np.sum(cm[i+1, 0])\n",
    "    total_wrong_predicted = total_wrong_predicted + wrong_predicted\n",
    "\n",
    "print(\"Total number of abnormal classes: \", total_abnormal)\n",
    "print(\"Total number of wrong predicted abnormal classes: \", total_wrong_predicted)\n",
    "print(\"Percentage of sick persons that are classified as normal: \", wrong_predicted/total_abnormal_class*100, \"%\")    "
   ]
  },
  {
   "cell_type": "code",
   "execution_count": 29,
   "metadata": {},
   "outputs": [
    {
     "name": "stdout",
     "output_type": "stream",
     "text": [
      "              precision    recall  f1-score   support\n",
      "\n",
      "         0.0     0.9881    0.9929    0.9905     18095\n",
      "         1.0     0.8956    0.7171    0.7964       562\n",
      "         2.0     0.9588    0.9517    0.9552      1491\n",
      "         3.0     0.9684    0.9899    0.9790      1581\n",
      "\n",
      "    accuracy                         0.9827     21729\n",
      "   macro avg     0.9527    0.9129    0.9303     21729\n",
      "weighted avg     0.9823    0.9827    0.9822     21729\n",
      "\n"
     ]
    }
   ],
   "source": [
    "report = classification_report(y_test, y_pred_ann, digits=4)\n",
    "print(report)\n",
    "\n",
    "# Create the classification report table\n",
    "results_table_latex(cm, report, \"ANN with GAN data\")"
   ]
  },
  {
   "attachments": {},
   "cell_type": "markdown",
   "metadata": {},
   "source": [
    "## CNN"
   ]
  },
  {
   "cell_type": "code",
   "execution_count": 30,
   "metadata": {},
   "outputs": [
    {
     "name": "stdout",
     "output_type": "stream",
     "text": [
      "Epoch 1/40\n",
      "2236/2236 [==============================] - 23s 8ms/step - loss: 0.1262 - accuracy: 0.9642 - val_loss: 0.1131 - val_accuracy: 0.9655\n",
      "Epoch 2/40\n",
      "2236/2236 [==============================] - 18s 8ms/step - loss: 0.0741 - accuracy: 0.9786 - val_loss: 0.0635 - val_accuracy: 0.9799\n",
      "Epoch 3/40\n",
      "2236/2236 [==============================] - 18s 8ms/step - loss: 0.0596 - accuracy: 0.9826 - val_loss: 0.0656 - val_accuracy: 0.9808\n",
      "Epoch 4/40\n",
      "2236/2236 [==============================] - 18s 8ms/step - loss: 0.0524 - accuracy: 0.9845 - val_loss: 0.0788 - val_accuracy: 0.9745\n",
      "Epoch 5/40\n",
      "2236/2236 [==============================] - 18s 8ms/step - loss: 0.0441 - accuracy: 0.9866 - val_loss: 0.0599 - val_accuracy: 0.9813\n",
      "Epoch 6/40\n",
      "2236/2236 [==============================] - 17s 8ms/step - loss: 0.0400 - accuracy: 0.9877 - val_loss: 0.0542 - val_accuracy: 0.9830\n",
      "Epoch 7/40\n",
      "2236/2236 [==============================] - 19s 8ms/step - loss: 0.0364 - accuracy: 0.9892 - val_loss: 0.0375 - val_accuracy: 0.9890\n",
      "Epoch 8/40\n",
      "2236/2236 [==============================] - 18s 8ms/step - loss: 0.0306 - accuracy: 0.9903 - val_loss: 0.0352 - val_accuracy: 0.9891\n",
      "Epoch 9/40\n",
      "2236/2236 [==============================] - 17s 8ms/step - loss: 0.0293 - accuracy: 0.9907 - val_loss: 0.0430 - val_accuracy: 0.9877\n",
      "Epoch 10/40\n",
      "2236/2236 [==============================] - 17s 8ms/step - loss: 0.0259 - accuracy: 0.9916 - val_loss: 0.0410 - val_accuracy: 0.9883\n",
      "Epoch 11/40\n",
      "2236/2236 [==============================] - 18s 8ms/step - loss: 0.0227 - accuracy: 0.9924 - val_loss: 0.0472 - val_accuracy: 0.9877\n",
      "Epoch 12/40\n",
      "2236/2236 [==============================] - 19s 8ms/step - loss: 0.0225 - accuracy: 0.9923 - val_loss: 0.0429 - val_accuracy: 0.9884\n",
      "Epoch 13/40\n",
      "2236/2236 [==============================] - 18s 8ms/step - loss: 0.0210 - accuracy: 0.9931 - val_loss: 0.0428 - val_accuracy: 0.9877\n",
      "Epoch 14/40\n",
      "2236/2236 [==============================] - 17s 8ms/step - loss: 0.0170 - accuracy: 0.9941 - val_loss: 0.0542 - val_accuracy: 0.9857\n",
      "Epoch 15/40\n",
      "2236/2236 [==============================] - 18s 8ms/step - loss: 0.0179 - accuracy: 0.9939 - val_loss: 0.0597 - val_accuracy: 0.9833\n",
      "Epoch 16/40\n",
      "2236/2236 [==============================] - 20s 9ms/step - loss: 0.0165 - accuracy: 0.9947 - val_loss: 0.0466 - val_accuracy: 0.9892\n"
     ]
    }
   ],
   "source": [
    "model_cnn = Sequential([\n",
    "    Conv1D(64, kernel_size=6, activation='relu', input_shape=(X_train.shape[1], 1)),\n",
    "    BatchNormalization(),\n",
    "    MaxPooling1D(pool_size=3, strides=2, padding='same'),\n",
    "    Conv1D(64, kernel_size=3, activation='relu'),\n",
    "    BatchNormalization(),\n",
    "    MaxPooling1D(pool_size=2, strides=2, padding='same'),\n",
    "    Conv1D(64, kernel_size=3, activation='relu'),\n",
    "    BatchNormalization(),\n",
    "    MaxPooling1D(pool_size=2, strides=2, padding='same'),\n",
    "    Conv1D(64, kernel_size=3, activation='relu'),\n",
    "    BatchNormalization(),\n",
    "    MaxPooling1D(pool_size=2, strides=2, padding='same'),\n",
    "    Conv1D(64, kernel_size=3, activation='relu'),\n",
    "    BatchNormalization(),\n",
    "    MaxPooling1D(pool_size=2, strides=2, padding='same'),\n",
    "\n",
    "    Flatten(),\n",
    "    Dense(128, activation='relu'),\n",
    "    Dense(64, activation='relu'),\n",
    "    Dense(32, activation='relu'),\n",
    "    Dense(4, activation='softmax')\n",
    "])\n",
    "\n",
    "model_cnn.compile(optimizer='adam', loss='categorical_crossentropy', metrics=['accuracy'])\n",
    "\n",
    "callbacks = [EarlyStopping(monitor='val_loss', patience=8),\n",
    "             ModelCheckpoint(filepath='best_cnn_5.h5', monitor='val_loss', save_best_only=True)]\n",
    "\n",
    "\n",
    "history_cnn = model_cnn.fit(X_train, y_train_nn, epochs=40, callbacks=callbacks, batch_size=32, validation_data=(X_valid, y_valid_nn))\n",
    "\n",
    "model_cnn.load_weights('best_cnn_5.h5')\n",
    "# save_model(model_cnn, 'CNN_MITBIH_with_GAN_Data', 'keras')"
   ]
  },
  {
   "cell_type": "code",
   "execution_count": 31,
   "metadata": {},
   "outputs": [
    {
     "data": {
      "image/png": "[encoded data removed]",
      "text/plain": [
       "<Figure size 640x480 with 1 Axes>"
      ]
     },
     "metadata": {},
     "output_type": "display_data"
    }
   ],
   "source": [
    "history_df_cnn = pd.DataFrame(history_cnn.history)\n",
    "history_df_cnn.index += 1\n",
    "\n",
    "cols = ['loss', 'val_loss']\n",
    "\n",
    "plt.figure()\n",
    "plt.plot(history_df_cnn[cols])\n",
    "plt.grid(True)\n",
    "plt.xlabel('Epoch')\n",
    "plt.gca().set_xlim(left=1)\n",
    "plt.title(\"Loss - CNN\")\n",
    "plt.legend(cols, loc=\"right\")\n",
    "plt.show()"
   ]
  },
  {
   "cell_type": "code",
   "execution_count": 32,
   "metadata": {},
   "outputs": [
    {
     "data": {
      "image/png": "[encoded data removed]",
      "text/plain": [
       "<Figure size 640x480 with 1 Axes>"
      ]
     },
     "metadata": {},
     "output_type": "display_data"
    }
   ],
   "source": [
    "cols = ['accuracy', 'val_accuracy']\n",
    "\n",
    "plt.figure()\n",
    "plt.plot(history_df_cnn[cols])\n",
    "plt.grid(True)\n",
    "plt.xlabel('Epoch')\n",
    "plt.gca().set_xlim(left=1)\n",
    "plt.title(\"Accuracy - CNN\")\n",
    "plt.legend(cols, loc=\"right\")\n",
    "plt.show()"
   ]
  },
  {
   "cell_type": "code",
   "execution_count": 33,
   "metadata": {},
   "outputs": [
    {
     "name": "stdout",
     "output_type": "stream",
     "text": [
      "680/680 [==============================] - 2s 2ms/step\n",
      "Accuracy of CNN:  0.9882645312715725\n"
     ]
    }
   ],
   "source": [
    "# Predict test set labels\n",
    "y_pred_2  = model_cnn.predict(X_test)\n",
    "y_pred_cnn = np.argmax(y_pred_2 , axis=1)\n",
    "\n",
    "print('Accuracy of CNN: ', accuracy_score(y_test, y_pred_cnn))"
   ]
  },
  {
   "cell_type": "code",
   "execution_count": 34,
   "metadata": {},
   "outputs": [
    {
     "data": {
      "image/png": "[encoded data removed]",
      "text/plain": [
       "<Figure size 500x500 with 2 Axes>"
      ]
     },
     "metadata": {},
     "output_type": "display_data"
    }
   ],
   "source": [
    "# Calculate confusion matrix\n",
    "cm = confusion_matrix(y_test, y_pred_cnn)\n",
    "\n",
    "# Plot confusion matrix\n",
    "plt.figure(figsize=(5,5))\n",
    "ax = plt.subplot(111)\n",
    "sns.heatmap(cm, annot=True, fmt='g', cmap='Blues', square=True)\n",
    "plt.xlabel('Predicted label')\n",
    "plt.ylabel('True label')\n",
    "plt.title('Confusion matrix CNN')\n",
    "ax.xaxis.set_ticklabels(labels_short)\n",
    "ax.yaxis.set_ticklabels(labels_short)\n",
    "plt.show()"
   ]
  },
  {
   "cell_type": "code",
   "execution_count": 35,
   "metadata": {},
   "outputs": [
    {
     "name": "stdout",
     "output_type": "stream",
     "text": [
      "Accuracy per class:  [0.99491572 0.81316726 0.97183099 0.98987982]\n",
      "Macro/average accuracy:  0.9424484477935419\n"
     ]
    }
   ],
   "source": [
    "# Calculate the accurcay for each label\n",
    "acc_per_class = cm.diagonal()/cm.sum(axis=1)\n",
    "print('Accuracy per class: ', acc_per_class)\n",
    "# Take the avearge of the accuracies\n",
    "acc = np.mean(acc_per_class)\n",
    "print('Macro/average accuracy: ', acc)\n"
   ]
  },
  {
   "cell_type": "code",
   "execution_count": 36,
   "metadata": {},
   "outputs": [
    {
     "name": "stdout",
     "output_type": "stream",
     "text": [
      "                                   precision    recall  f1-score   support\n",
      "\n",
      "                           Normal     0.9924    0.9949    0.9937     18095\n",
      "                 Artial Premature     0.8857    0.8132    0.8479       562\n",
      "Premature ventricular contraction     0.9731    0.9718    0.9725      1491\n",
      "                            Paced     0.9886    0.9899    0.9893      1581\n",
      "\n",
      "                         accuracy                         0.9883     21729\n",
      "                        macro avg     0.9600    0.9424    0.9508     21729\n",
      "                     weighted avg     0.9880    0.9883    0.9881     21729\n",
      "\n"
     ]
    }
   ],
   "source": [
    "report = classification_report(y_test, y_pred_cnn, target_names=labels, digits=4)\n",
    "print(report)"
   ]
  },
  {
   "cell_type": "markdown",
   "metadata": {},
   "source": [
    "#### False Positive Rate"
   ]
  },
  {
   "cell_type": "code",
   "execution_count": 37,
   "metadata": {},
   "outputs": [
    {
     "name": "stdout",
     "output_type": "stream",
     "text": [
      "Total number of abnormal classes:  3634\n",
      "Total number of wrong predicted abnormal classes:  138\n",
      "Percentage of sick persons that are classified as normal:  0.8855154965211892 %\n"
     ]
    }
   ],
   "source": [
    "num_classes = cm.shape[0]\n",
    "total_abnormal= 0\n",
    "total_wrong_predicted = 0\n",
    "for i in range(num_classes-1): \n",
    "    total_abnormal_class = np.sum(cm[i+1, :])\n",
    "    total_abnormal = total_abnormal + total_abnormal_class\n",
    "\n",
    "    wrong_predicted = np.sum(cm[i+1, 0])\n",
    "    total_wrong_predicted = total_wrong_predicted + wrong_predicted\n",
    "\n",
    "print(\"Total number of abnormal classes: \", total_abnormal)\n",
    "print(\"Total number of wrong predicted abnormal classes: \", total_wrong_predicted)\n",
    "print(\"Percentage of sick persons that are classified as normal: \", wrong_predicted/total_abnormal_class*100, \"%\")    "
   ]
  },
  {
   "cell_type": "code",
   "execution_count": 38,
   "metadata": {},
   "outputs": [
    {
     "name": "stdout",
     "output_type": "stream",
     "text": [
      "              precision    recall  f1-score   support\n",
      "\n",
      "         0.0     0.9924    0.9949    0.9937     18095\n",
      "         1.0     0.8857    0.8132    0.8479       562\n",
      "         2.0     0.9731    0.9718    0.9725      1491\n",
      "         3.0     0.9886    0.9899    0.9893      1581\n",
      "\n",
      "    accuracy                         0.9883     21729\n",
      "   macro avg     0.9600    0.9424    0.9508     21729\n",
      "weighted avg     0.9880    0.9883    0.9881     21729\n",
      "\n"
     ]
    }
   ],
   "source": [
    "report = classification_report(y_test, y_pred_cnn, digits=4)\n",
    "print(report)\n",
    "\n",
    "# Create the classification report table\n",
    "results_table_latex(cm, report, \"CNN with GAN data\")"
   ]
  },
  {
   "cell_type": "code",
   "execution_count": 39,
   "metadata": {},
   "outputs": [],
   "source": [
    "# model_cnn.load_weights('best_cnn_5.h5')\n",
    "# save_model(model_cnn, 'CNN_MITBIH_with_GAN_Data', 'keras', report)"
   ]
  }
 ],
 "metadata": {
  "kernelspec": {
   "display_name": "Python 3 (ipykernel)",
   "language": "python",
   "name": "python3"
  },
  "language_info": {
   "codemirror_mode": {
    "name": "ipython",
    "version": 3
   },
   "file_extension": ".py",
   "mimetype": "text/x-python",
   "name": "python",
   "nbconvert_exporter": "python",
   "pygments_lexer": "ipython3",
   "version": "3.9.16"
  }
 },
 "nbformat": 4,
 "nbformat_minor": 2
}
